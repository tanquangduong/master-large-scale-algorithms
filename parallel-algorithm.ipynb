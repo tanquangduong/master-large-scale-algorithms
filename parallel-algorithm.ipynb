{
 "cells": [
  {
   "cell_type": "code",
   "execution_count": 1,
   "id": "f42eb60d",
   "metadata": {},
   "outputs": [],
   "source": [
    "from pyspark.sql import SparkSession\n",
    "spark = SparkSession.builder.appName('cloudanum').getOrCreate()"
   ]
  },
  {
   "cell_type": "code",
   "execution_count": 2,
   "id": "904db03d",
   "metadata": {},
   "outputs": [],
   "source": [
    "stages = []\n",
    "# Load training data\n",
    "df = spark.read.csv('./datasets/taxi2.csv',inferSchema=True,header=True)"
   ]
  },
  {
   "cell_type": "code",
   "execution_count": 3,
   "id": "bc9076d7",
   "metadata": {},
   "outputs": [
    {
     "data": {
      "text/plain": [
       "['pickup_datetime',\n",
       " 'dropoff_datetime',\n",
       " 'pickup_longitude',\n",
       " 'pickup_latitude',\n",
       " 'dropoff_longitude',\n",
       " 'dropoff_latitude',\n",
       " 'passenger_count',\n",
       " 'trip_distance',\n",
       " 'payment_type',\n",
       " 'fare_amount',\n",
       " 'tip_amount',\n",
       " 'tolls_amount',\n",
       " 'total_amount']"
      ]
     },
     "execution_count": 3,
     "metadata": {},
     "output_type": "execute_result"
    }
   ],
   "source": [
    "df.columns"
   ]
  },
  {
   "cell_type": "code",
   "execution_count": 4,
   "id": "0ffc3c5d",
   "metadata": {},
   "outputs": [],
   "source": [
    "df.createOrReplaceTempView(\"main\")"
   ]
  },
  {
   "cell_type": "code",
   "execution_count": 6,
   "id": "261a98d0",
   "metadata": {},
   "outputs": [
    {
     "name": "stdout",
     "output_type": "stream",
     "text": [
      "+------------+-----+------------------+-----------------+\n",
      "|payment_type|COUNT|  avg(fare_amount)|      AverageFare|\n",
      "+------------+-----+------------------+-----------------+\n",
      "|         CRD|10000|32.384988999999784| 7.61713200000006|\n",
      "|         Cas| 3080| 34.64730519480518|7.497457792207749|\n",
      "+------------+-----+------------------+-----------------+\n",
      "\n"
     ]
    }
   ],
   "source": [
    "data=spark.sql(\"SELECT payment_type, Count(*) AS COUNT,AVG(fare_amount), AVG(tip_amount) AS AverageFare from main GROUP BY payment_type\")\n",
    "data.show()"
   ]
  },
  {
   "cell_type": "code",
   "execution_count": 7,
   "id": "3cd5d7a5",
   "metadata": {},
   "outputs": [
    {
     "name": "stdout",
     "output_type": "stream",
     "text": [
      "+---------------+-----+------------------+-----------------+\n",
      "|passenger_count|COUNT|  avg(fare_amount)|      AverageFare|\n",
      "+---------------+-----+------------------+-----------------+\n",
      "|              1| 8489| 33.24972199316738|7.647828955118439|\n",
      "|              6|  519| 31.75356454720615|7.487167630057794|\n",
      "|              3|  513| 32.66569200779726|7.573684210526312|\n",
      "|              5| 1342|31.179731743666245|7.306810730253361|\n",
      "|              4|  248|31.752016129032274|7.552782258064514|\n",
      "|              2| 1968| 33.17144308943094|7.561534552845541|\n",
      "|              0|    1|              70.0|             10.0|\n",
      "+---------------+-----+------------------+-----------------+\n",
      "\n"
     ]
    }
   ],
   "source": [
    "data=spark.sql(\"SELECT passenger_count,Count(*) AS COUNT,AVG(fare_amount), AVG(tip_amount) AS AverageFare from main GROUP BY passenger_count\")\n",
    "data.show()"
   ]
  },
  {
   "cell_type": "code",
   "execution_count": 8,
   "id": "f672c0c8",
   "metadata": {},
   "outputs": [],
   "source": [
    "from pyspark.ml.feature import StringIndexer"
   ]
  },
  {
   "cell_type": "code",
   "execution_count": 9,
   "id": "bac03ec6",
   "metadata": {},
   "outputs": [],
   "source": [
    "label_payment_type_indx = StringIndexer(inputCol = \"payment_type\", outputCol = \"label\")\n",
    "indexed = label_payment_type_indx.fit(df).transform(df)"
   ]
  },
  {
   "cell_type": "code",
   "execution_count": 10,
   "id": "16599d0b",
   "metadata": {},
   "outputs": [
    {
     "name": "stdout",
     "output_type": "stream",
     "text": [
      "[StringIndexer_f9fbbb568fe9]\n"
     ]
    }
   ],
   "source": [
    "print([label_payment_type_indx])"
   ]
  },
  {
   "cell_type": "code",
   "execution_count": 11,
   "id": "594ee5e8",
   "metadata": {},
   "outputs": [
    {
     "name": "stdout",
     "output_type": "stream",
     "text": [
      "root\n",
      " |-- passenger_count: integer (nullable = true)\n",
      " |-- COUNT: long (nullable = false)\n",
      " |-- avg(fare_amount): double (nullable = true)\n",
      " |-- AverageFare: double (nullable = true)\n",
      "\n"
     ]
    }
   ],
   "source": [
    "data.printSchema()"
   ]
  },
  {
   "cell_type": "code",
   "execution_count": 12,
   "id": "e8057cc0",
   "metadata": {},
   "outputs": [
    {
     "data": {
      "text/plain": [
       "Row(passenger_count=1, COUNT=8489, avg(fare_amount)=33.24972199316738, AverageFare=7.647828955118439)"
      ]
     },
     "execution_count": 12,
     "metadata": {},
     "output_type": "execute_result"
    }
   ],
   "source": [
    "data.head()"
   ]
  },
  {
   "cell_type": "code",
   "execution_count": 13,
   "id": "c61d2d9e",
   "metadata": {},
   "outputs": [
    {
     "data": {
      "text/plain": [
       "['passenger_count', 'COUNT', 'avg(fare_amount)', 'AverageFare']"
      ]
     },
     "execution_count": 13,
     "metadata": {},
     "output_type": "execute_result"
    }
   ],
   "source": [
    "data.columns"
   ]
  },
  {
   "cell_type": "code",
   "execution_count": 14,
   "id": "33b6253b",
   "metadata": {},
   "outputs": [],
   "source": [
    "# Import VectorAssembler and Vectors\n",
    "from pyspark.ml.linalg import Vectors\n",
    "from pyspark.ml.feature import VectorAssembler,StringIndexer"
   ]
  },
  {
   "cell_type": "code",
   "execution_count": 15,
   "id": "96a76d7a",
   "metadata": {},
   "outputs": [],
   "source": [
    "paymentIndexer = StringIndexer(inputCol=\"payment_type\", outputCol=\"payment_typeIndx\").fit(df)"
   ]
  },
  {
   "cell_type": "code",
   "execution_count": 16,
   "id": "39371f9e",
   "metadata": {},
   "outputs": [],
   "source": [
    "assembler = VectorAssembler(\n",
    "  inputCols=[\n",
    " \n",
    " 'pickup_longitude',\n",
    " 'pickup_latitude',\n",
    " 'dropoff_longitude',\n",
    " 'dropoff_latitude',\n",
    " 'passenger_count',\n",
    "      'paymentIndexer'\n",
    "],\n",
    "              outputCol=\"features\")"
   ]
  },
  {
   "cell_type": "code",
   "execution_count": null,
   "id": "01fc3a36",
   "metadata": {},
   "outputs": [],
   "source": []
  }
 ],
 "metadata": {
  "kernelspec": {
   "display_name": "Python 3 (ipykernel)",
   "language": "python",
   "name": "python3"
  },
  "language_info": {
   "codemirror_mode": {
    "name": "ipython",
    "version": 3
   },
   "file_extension": ".py",
   "mimetype": "text/x-python",
   "name": "python",
   "nbconvert_exporter": "python",
   "pygments_lexer": "ipython3",
   "version": "3.10.10"
  }
 },
 "nbformat": 4,
 "nbformat_minor": 5
}
